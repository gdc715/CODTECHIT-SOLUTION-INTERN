{
 "cells": [
  {
   "cell_type": "code",
   "execution_count": 3,
   "id": "9dae6760-83c1-47eb-855d-c53c33cdd86f",
   "metadata": {},
   "outputs": [],
   "source": [
    "import pandas as pd\n",
    "from sklearn.preprocessing import StandardScaler, LabelEncoder\n",
    "from sklearn.model_selection import train_test_split"
   ]
  },
  {
   "cell_type": "code",
   "execution_count": 7,
   "id": "4ae14b1b-bf1c-494f-8d89-4e3ac3d54dfb",
   "metadata": {},
   "outputs": [],
   "source": [
    "task1 = pd.read_csv(\"IRIS.csv\")"
   ]
  },
  {
   "cell_type": "code",
   "execution_count": 9,
   "id": "99a4e9e7-c096-4c18-8ed9-c9460ce9c4e2",
   "metadata": {},
   "outputs": [
    {
     "data": {
      "text/html": [
       "<div>\n",
       "<style scoped>\n",
       "    .dataframe tbody tr th:only-of-type {\n",
       "        vertical-align: middle;\n",
       "    }\n",
       "\n",
       "    .dataframe tbody tr th {\n",
       "        vertical-align: top;\n",
       "    }\n",
       "\n",
       "    .dataframe thead th {\n",
       "        text-align: right;\n",
       "    }\n",
       "</style>\n",
       "<table border=\"1\" class=\"dataframe\">\n",
       "  <thead>\n",
       "    <tr style=\"text-align: right;\">\n",
       "      <th></th>\n",
       "      <th>sepal_length</th>\n",
       "      <th>sepal_width</th>\n",
       "      <th>petal_length</th>\n",
       "      <th>petal_width</th>\n",
       "      <th>species</th>\n",
       "    </tr>\n",
       "  </thead>\n",
       "  <tbody>\n",
       "    <tr>\n",
       "      <th>0</th>\n",
       "      <td>5.1</td>\n",
       "      <td>3.5</td>\n",
       "      <td>1.4</td>\n",
       "      <td>0.2</td>\n",
       "      <td>Iris-setosa</td>\n",
       "    </tr>\n",
       "    <tr>\n",
       "      <th>1</th>\n",
       "      <td>4.9</td>\n",
       "      <td>3.0</td>\n",
       "      <td>1.4</td>\n",
       "      <td>0.2</td>\n",
       "      <td>Iris-setosa</td>\n",
       "    </tr>\n",
       "    <tr>\n",
       "      <th>2</th>\n",
       "      <td>4.7</td>\n",
       "      <td>3.2</td>\n",
       "      <td>1.3</td>\n",
       "      <td>0.2</td>\n",
       "      <td>Iris-setosa</td>\n",
       "    </tr>\n",
       "    <tr>\n",
       "      <th>3</th>\n",
       "      <td>4.6</td>\n",
       "      <td>3.1</td>\n",
       "      <td>1.5</td>\n",
       "      <td>0.2</td>\n",
       "      <td>Iris-setosa</td>\n",
       "    </tr>\n",
       "    <tr>\n",
       "      <th>4</th>\n",
       "      <td>5.0</td>\n",
       "      <td>3.6</td>\n",
       "      <td>1.4</td>\n",
       "      <td>0.2</td>\n",
       "      <td>Iris-setosa</td>\n",
       "    </tr>\n",
       "  </tbody>\n",
       "</table>\n",
       "</div>"
      ],
      "text/plain": [
       "   sepal_length  sepal_width  petal_length  petal_width      species\n",
       "0           5.1          3.5           1.4          0.2  Iris-setosa\n",
       "1           4.9          3.0           1.4          0.2  Iris-setosa\n",
       "2           4.7          3.2           1.3          0.2  Iris-setosa\n",
       "3           4.6          3.1           1.5          0.2  Iris-setosa\n",
       "4           5.0          3.6           1.4          0.2  Iris-setosa"
      ]
     },
     "execution_count": 9,
     "metadata": {},
     "output_type": "execute_result"
    }
   ],
   "source": [
    "task1.head()\n"
   ]
  },
  {
   "cell_type": "code",
   "execution_count": 13,
   "id": "2d963091-026d-4e5e-9449-8d338efa04f9",
   "metadata": {},
   "outputs": [],
   "source": [
    "task1.dropna(inplace=True)\n"
   ]
  },
  {
   "cell_type": "code",
   "execution_count": 15,
   "id": "93d2add6-1f54-4200-ba37-2f310c6ae4dd",
   "metadata": {},
   "outputs": [],
   "source": [
    "task1.drop_duplicates(inplace=True)\n"
   ]
  },
  {
   "cell_type": "code",
   "execution_count": 30,
   "id": "ebd590f1-691e-400a-a4f5-75362ed84cd7",
   "metadata": {},
   "outputs": [],
   "source": [
    "scaler = StandardScaler()\n",
    "task1['sepal_length'] = scaler.fit_transform(task1[['sepal_length']])\n"
   ]
  },
  {
   "cell_type": "code",
   "execution_count": 32,
   "id": "14bd18dd-e905-4661-8c69-22df4d59e2ab",
   "metadata": {},
   "outputs": [],
   "source": [
    "scaler = StandardScaler()\n",
    "task1['sepal_width'] = scaler.fit_transform(task1[['sepal_width']])"
   ]
  },
  {
   "cell_type": "code",
   "execution_count": 34,
   "id": "a5388fa4-0323-48c8-ba22-1d9d71d9d1aa",
   "metadata": {},
   "outputs": [],
   "source": [
    "label_encoder = LabelEncoder()\n",
    "task1['petal_length'] = label_encoder.fit_transform(task1['petal_length'])"
   ]
  },
  {
   "cell_type": "code",
   "execution_count": 36,
   "id": "76121fa0-7fec-445b-8147-c86289549567",
   "metadata": {},
   "outputs": [],
   "source": [
    "label_encoder = LabelEncoder()\n",
    "task1['petal_width'] = label_encoder.fit_transform(task1['petal_width'])"
   ]
  },
  {
   "cell_type": "code",
   "execution_count": 38,
   "id": "95d52a36-5046-40f1-866b-48bcd8d5d1e3",
   "metadata": {},
   "outputs": [],
   "source": [
    "X = task1.drop('species', axis=1)\n",
    "y = task1['species']\n",
    "X_train, X_test, y_train, y_test = train_test_split(X, y, test_size=0.2, random_state=42)"
   ]
  },
  {
   "cell_type": "code",
   "execution_count": null,
   "id": "c68a3f85-37e1-4706-953e-b9af0990d3be",
   "metadata": {},
   "outputs": [],
   "source": [
    "task1.to_csv('processed_data.csv', index=False)"
   ]
  },
  {
   "cell_type": "code",
   "execution_count": 41,
   "id": "b83da94a-0f6b-489f-9e43-c1a7d26e597f",
   "metadata": {},
   "outputs": [
    {
     "data": {
      "text/plain": [
       "<bound method NDFrame.head of      sepal_length  sepal_width  petal_length  petal_width         species\n",
       "0       -0.915509     1.019971             4            1     Iris-setosa\n",
       "1       -1.157560    -0.128082             4            1     Iris-setosa\n",
       "2       -1.399610     0.331139             3            1     Iris-setosa\n",
       "3       -1.520635     0.101529             5            1     Iris-setosa\n",
       "4       -1.036535     1.249582             4            1     Iris-setosa\n",
       "..            ...          ...           ...          ...             ...\n",
       "145      1.020892    -0.128082            28           19  Iris-virginica\n",
       "146      0.536792    -1.276136            26           15  Iris-virginica\n",
       "147      0.778842    -0.128082            28           16  Iris-virginica\n",
       "148      0.415766     0.790361            30           19  Iris-virginica\n",
       "149      0.052691    -0.128082            27           14  Iris-virginica\n",
       "\n",
       "[147 rows x 5 columns]>"
      ]
     },
     "execution_count": 41,
     "metadata": {},
     "output_type": "execute_result"
    }
   ],
   "source": [
    "task1.head"
   ]
  },
  {
   "cell_type": "code",
   "execution_count": null,
   "id": "97edecb3-0d79-462b-9e9b-184142dc1e18",
   "metadata": {},
   "outputs": [],
   "source": []
  }
 ],
 "metadata": {
  "kernelspec": {
   "display_name": "Python 3 (ipykernel)",
   "language": "python",
   "name": "python3"
  },
  "language_info": {
   "codemirror_mode": {
    "name": "ipython",
    "version": 3
   },
   "file_extension": ".py",
   "mimetype": "text/x-python",
   "name": "python",
   "nbconvert_exporter": "python",
   "pygments_lexer": "ipython3",
   "version": "3.12.4"
  }
 },
 "nbformat": 4,
 "nbformat_minor": 5
}
